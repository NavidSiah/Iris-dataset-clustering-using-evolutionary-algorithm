{
 "cells": [
  {
   "cell_type": "code",
   "execution_count": 25,
   "metadata": {},
   "outputs": [],
   "source": [
    "import pandas as pd\n",
    "from sklearn.datasets import load_iris\n",
    "\n",
    "iris = load_iris()\n",
    "iris_df = pd.DataFrame(data=iris.data, columns=iris.feature_names)\n"
   ]
  },
  {
   "cell_type": "code",
   "execution_count": 138,
   "metadata": {},
   "outputs": [
    {
     "name": "stderr",
     "output_type": "stream",
     "text": [
      "C:\\Users\\Navid_jkcdo35\\AppData\\Local\\Temp\\ipykernel_17224\\737546971.py:26: FutureWarning: Series.__getitem__ treating keys as positions is deprecated. In a future version, integer keys will always be treated as labels (consistent with DataFrame behavior). To access a value by position, use `ser.iloc[pos]`\n",
      "  sum1 += (iris_df.iloc[i][f] - mean_of_clusters[cluster][f])**2\n"
     ]
    },
    {
     "ename": "KeyboardInterrupt",
     "evalue": "",
     "output_type": "error",
     "traceback": [
      "\u001b[1;31m---------------------------------------------------------------------------\u001b[0m",
      "\u001b[1;31mKeyboardInterrupt\u001b[0m                         Traceback (most recent call last)",
      "Cell \u001b[1;32mIn[138], line 69\u001b[0m\n\u001b[0;32m     66\u001b[0m     \u001b[38;5;28;01mreturn\u001b[39;00m population\n\u001b[0;32m     68\u001b[0m population \u001b[38;5;241m=\u001b[39m init_population()\n\u001b[1;32m---> 69\u001b[0m scores \u001b[38;5;241m=\u001b[39m \u001b[43mevaluate_population\u001b[49m\u001b[43m(\u001b[49m\u001b[43mpopulation\u001b[49m\u001b[43m)\u001b[49m\n\u001b[0;32m     70\u001b[0m \u001b[38;5;28;01mfor\u001b[39;00m i \u001b[38;5;129;01min\u001b[39;00m \u001b[38;5;28mrange\u001b[39m(\u001b[38;5;241m100\u001b[39m):\n\u001b[0;32m     71\u001b[0m     children \u001b[38;5;241m=\u001b[39m create_new_children(population, scores)\n",
      "Cell \u001b[1;32mIn[138], line 26\u001b[0m, in \u001b[0;36mevaluate_population\u001b[1;34m(population)\u001b[0m\n\u001b[0;32m     24\u001b[0m         cluster \u001b[38;5;241m=\u001b[39m individual[i]\n\u001b[0;32m     25\u001b[0m         \u001b[38;5;28;01mfor\u001b[39;00m f \u001b[38;5;129;01min\u001b[39;00m \u001b[38;5;28mrange\u001b[39m(\u001b[38;5;241m4\u001b[39m):\n\u001b[1;32m---> 26\u001b[0m             sum1 \u001b[38;5;241m+\u001b[39m\u001b[38;5;241m=\u001b[39m (\u001b[43miris_df\u001b[49m\u001b[38;5;241;43m.\u001b[39;49m\u001b[43miloc\u001b[49m\u001b[43m[\u001b[49m\u001b[43mi\u001b[49m\u001b[43m]\u001b[49m[f] \u001b[38;5;241m-\u001b[39m mean_of_clusters[cluster][f])\u001b[38;5;241m*\u001b[39m\u001b[38;5;241m*\u001b[39m\u001b[38;5;241m2\u001b[39m\n\u001b[0;32m     28\u001b[0m     population_scores[k] \u001b[38;5;241m=\u001b[39m sum1\n\u001b[0;32m     29\u001b[0m \u001b[38;5;28;01mreturn\u001b[39;00m population_scores\n",
      "File \u001b[1;32mc:\\Users\\Navid_jkcdo35\\AppData\\Local\\Programs\\Python\\Python312\\Lib\\site-packages\\pandas\\core\\indexing.py:1152\u001b[0m, in \u001b[0;36m_LocationIndexer.__getitem__\u001b[1;34m(self, key)\u001b[0m\n\u001b[0;32m   1148\u001b[0m \u001b[38;5;28;01melse\u001b[39;00m:\n\u001b[0;32m   1149\u001b[0m     \u001b[38;5;66;03m# we by definition only have the 0th axis\u001b[39;00m\n\u001b[0;32m   1150\u001b[0m     axis \u001b[38;5;241m=\u001b[39m \u001b[38;5;28mself\u001b[39m\u001b[38;5;241m.\u001b[39maxis \u001b[38;5;129;01mor\u001b[39;00m \u001b[38;5;241m0\u001b[39m\n\u001b[1;32m-> 1152\u001b[0m     maybe_callable \u001b[38;5;241m=\u001b[39m \u001b[43mcom\u001b[49m\u001b[38;5;241;43m.\u001b[39;49m\u001b[43mapply_if_callable\u001b[49m\u001b[43m(\u001b[49m\u001b[43mkey\u001b[49m\u001b[43m,\u001b[49m\u001b[43m \u001b[49m\u001b[38;5;28;43mself\u001b[39;49m\u001b[38;5;241;43m.\u001b[39;49m\u001b[43mobj\u001b[49m\u001b[43m)\u001b[49m\n\u001b[0;32m   1153\u001b[0m     \u001b[38;5;28;01mreturn\u001b[39;00m \u001b[38;5;28mself\u001b[39m\u001b[38;5;241m.\u001b[39m_getitem_axis(maybe_callable, axis\u001b[38;5;241m=\u001b[39maxis)\n",
      "File \u001b[1;32mc:\\Users\\Navid_jkcdo35\\AppData\\Local\\Programs\\Python\\Python312\\Lib\\site-packages\\pandas\\core\\common.py:367\u001b[0m, in \u001b[0;36mapply_if_callable\u001b[1;34m(maybe_callable, obj, **kwargs)\u001b[0m\n\u001b[0;32m    360\u001b[0m     \u001b[38;5;66;03m# everything failed (probably because the argument\u001b[39;00m\n\u001b[0;32m    361\u001b[0m     \u001b[38;5;66;03m# wasn't actually callable); we return None\u001b[39;00m\n\u001b[0;32m    362\u001b[0m     \u001b[38;5;66;03m# instead of the empty string in this case to allow\u001b[39;00m\n\u001b[0;32m    363\u001b[0m     \u001b[38;5;66;03m# distinguishing between no name and a name of ''\u001b[39;00m\n\u001b[0;32m    364\u001b[0m     \u001b[38;5;28;01mreturn\u001b[39;00m \u001b[38;5;28;01mNone\u001b[39;00m\n\u001b[1;32m--> 367\u001b[0m \u001b[38;5;28;01mdef\u001b[39;00m \u001b[38;5;21mapply_if_callable\u001b[39m(maybe_callable, obj, \u001b[38;5;241m*\u001b[39m\u001b[38;5;241m*\u001b[39mkwargs):\n\u001b[0;32m    368\u001b[0m \u001b[38;5;250m    \u001b[39m\u001b[38;5;124;03m\"\"\"\u001b[39;00m\n\u001b[0;32m    369\u001b[0m \u001b[38;5;124;03m    Evaluate possibly callable input using obj and kwargs if it is callable,\u001b[39;00m\n\u001b[0;32m    370\u001b[0m \u001b[38;5;124;03m    otherwise return as it is.\u001b[39;00m\n\u001b[1;32m   (...)\u001b[0m\n\u001b[0;32m    376\u001b[0m \u001b[38;5;124;03m    **kwargs\u001b[39;00m\n\u001b[0;32m    377\u001b[0m \u001b[38;5;124;03m    \"\"\"\u001b[39;00m\n\u001b[0;32m    378\u001b[0m     \u001b[38;5;28;01mif\u001b[39;00m \u001b[38;5;28mcallable\u001b[39m(maybe_callable):\n",
      "\u001b[1;31mKeyboardInterrupt\u001b[0m: "
     ]
    }
   ],
   "source": [
    "import random\n",
    "\n",
    "number_of_clusters = 3\n",
    "nummber_of_population = 1000\n",
    "\n",
    "def init_population():\n",
    "    population = []\n",
    "    for _ in range(nummber_of_population):\n",
    "        population.append([random.randint(0, number_of_clusters - 1) for _ in range(150)])\n",
    "    return population\n",
    "\n",
    "def evaluate_population(population):\n",
    "    population_scores = [None] * len(population)\n",
    "    for k in range(len(population)):\n",
    "        individual = population[k]\n",
    "        mean_of_clusters= [0 for _ in range(number_of_clusters)]\n",
    "        for i in range(number_of_clusters):\n",
    "            indices = [j for j, x in enumerate(individual) if x == i]\n",
    "            sample_of_cluster = iris_df.iloc[indices]\n",
    "            mean_of_clusters[i] = sample_of_cluster.mean(axis=0)\n",
    "\n",
    "        sum1 = 0\n",
    "        for i in range(len(individual)):\n",
    "            cluster = individual[i]\n",
    "            for f in range(4):\n",
    "                sum1 += (iris_df.iloc[i][f] - mean_of_clusters[cluster][f])**2\n",
    "\n",
    "        population_scores[k] = sum1\n",
    "    return population_scores\n",
    "\n",
    "def create_new_children(population, population_scores):\n",
    "\n",
    "    indices = range(len(population))\n",
    "    min_score = min(population_scores)\n",
    "    probabilities = [1 / ((score - min_score) + 1) for score in population_scores]\n",
    "\n",
    "    i = 0\n",
    "    children = [None] * 300\n",
    "    while i < 300:\n",
    "        parent1_index = random.choices(indices, probabilities)[0]\n",
    "        parent2_index = random.choices(indices, probabilities)[0]\n",
    "\n",
    "        rand_num1 = random.randint(0, 148)\n",
    "        rand_num2 = random.randint(rand_num1 + 1, 149)\n",
    "        children[i] = population[parent1_index][0:rand_num1]+population[parent2_index][rand_num1:rand_num2] + population[parent1_index][rand_num2:150]\n",
    "        children[i+1] = population[parent2_index][0:rand_num1]+population[parent1_index][rand_num1:rand_num2] + population[parent2_index][rand_num2:150]\n",
    "        i += 2\n",
    "\n",
    "    return children\n",
    "\n",
    "    \n",
    "def selection(population, scores):\n",
    "    for _ in range(300):\n",
    "        index = scores.index(max(scores))\n",
    "        population.pop(index)\n",
    "        scores.pop(index)\n",
    "\n",
    "    return population\n",
    "\n",
    "def mutation(population):\n",
    "    for _ in range(200):\n",
    "        rand1 = random.randint(0, nummber_of_population - 1)\n",
    "        rand2 = random.randint(0, 148)\n",
    "        rand3 = random.randint(rand2 + 1, 149)\n",
    "        population[rand1][rand2:rand3] = [random.randint(0, number_of_clusters -1 ) for _ in range(rand3 - rand2 + 1)]\n",
    "    return population"
   ]
  },
  {
   "cell_type": "code",
   "execution_count": 139,
   "metadata": {},
   "outputs": [
    {
     "name": "stderr",
     "output_type": "stream",
     "text": [
      "C:\\Users\\Navid_jkcdo35\\AppData\\Local\\Temp\\ipykernel_17224\\737546971.py:26: FutureWarning: Series.__getitem__ treating keys as positions is deprecated. In a future version, integer keys will always be treated as labels (consistent with DataFrame behavior). To access a value by position, use `ser.iloc[pos]`\n",
      "  sum1 += (iris_df.iloc[i][f] - mean_of_clusters[cluster][f])**2\n"
     ]
    }
   ],
   "source": [
    "population = init_population()\n",
    "scores = evaluate_population(population)\n",
    "for i in range(100):\n",
    "    children = create_new_children(population, scores)\n",
    "    socre_of_children = evaluate_population(children)\n",
    "    scores.extend(socre_of_children)\n",
    "    population.extend(children)\n",
    "\n",
    "    population = selection(population, scores)\n",
    "    population = mutation(population)"
   ]
  }
 ],
 "metadata": {
  "kernelspec": {
   "display_name": "Python 3",
   "language": "python",
   "name": "python3"
  },
  "language_info": {
   "codemirror_mode": {
    "name": "ipython",
    "version": 3
   },
   "file_extension": ".py",
   "mimetype": "text/x-python",
   "name": "python",
   "nbconvert_exporter": "python",
   "pygments_lexer": "ipython3",
   "version": "3.12.0"
  }
 },
 "nbformat": 4,
 "nbformat_minor": 2
}
