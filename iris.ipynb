{
 "cells": [
  {
   "cell_type": "code",
   "execution_count": 55,
   "metadata": {},
   "outputs": [],
   "source": [
    "import pandas as pd\n",
    "from sklearn.datasets import load_iris\n",
    "\n",
    "# Load Iris dataset\n",
    "iris = load_iris()\n",
    "\n",
    "# Convert the dataset to a pandas DataFrame\n",
    "iris_df = pd.DataFrame(data=iris.data, columns=iris.feature_names)\n"
   ]
  },
  {
   "cell_type": "code",
   "execution_count": 201,
   "metadata": {},
   "outputs": [
    {
     "name": "stderr",
     "output_type": "stream",
     "text": [
      "C:\\Users\\Navid_jkcdo35\\AppData\\Local\\Temp\\ipykernel_19088\\1301710716.py:26: FutureWarning: Series.__getitem__ treating keys as positions is deprecated. In a future version, integer keys will always be treated as labels (consistent with DataFrame behavior). To access a value by position, use `ser.iloc[pos]`\n",
      "  sum1 += (iris_df.iloc[i][f] - mean_of_clusters[cluster][f])**2\n"
     ]
    }
   ],
   "source": [
    "import random\n",
    "import heapq\n",
    "\n",
    "number_of_clusters = 3\n",
    "\n",
    "def init_population(number_of_population):\n",
    "    population = []\n",
    "    for _ in range(number_of_population):\n",
    "        population.append([random.randint(0, number_of_clusters - 1) for _ in range(150)])\n",
    "    return population\n",
    "\n",
    "def evaluate_population(population):\n",
    "    population_scores = [None] * len(population)\n",
    "    for k in range(len(population)):\n",
    "        individual = population[k]\n",
    "        mean_of_clusters= [0.0 for _ in range(number_of_clusters)]\n",
    "        for i in range(number_of_clusters):\n",
    "            indices = [j for j, x in enumerate(individual) if x == i]\n",
    "            sample_of_cluster = iris_df.iloc[indices]\n",
    "            mean_of_clusters[i] = sample_of_cluster.mean(axis=0)\n",
    "\n",
    "        sum1 = 0\n",
    "        for i in range(len(individual)):\n",
    "            cluster = individual[i]\n",
    "            for f in range(4):\n",
    "                sum1 += (iris_df.iloc[i][f] - mean_of_clusters[cluster][f])**2\n",
    "\n",
    "        population_scores[k] = sum1\n",
    "\n",
    "    return population_scores\n",
    "\n",
    "def create_new_children(population, population_scores):\n",
    "\n",
    "    indices = heapq.nsmallest(2, range(len(population_scores)), key=population_scores.__getitem__)\n",
    "    rand_num1 = random.randint(0, 75)\n",
    "    rand_num2 = random.randint(76, 149)\n",
    "\n",
    "    new_child1 = population[indices[0]][0:rand_num1] + population[indices[1]][rand_num1:rand_num2] + population[indices[0]][rand_num2:150]\n",
    "    new_child2 = population[indices[1]][0:rand_num1] + population[indices[0]][rand_num1:rand_num2] + population[indices[1]][rand_num2:150]\n",
    "\n",
    "    \n",
    "    return new_child1, new_child2\n",
    "\n",
    "def selection(population, scores):\n",
    "    index = scores.index(max(scores))\n",
    "    population.pop(index)\n",
    "    scores.pop(index)\n",
    "\n",
    "    index = scores.index(max(scores))\n",
    "    population.pop(index)\n",
    "    scores.pop(index)\n",
    "\n",
    "    return population\n",
    "\n",
    "population = init_population(20)\n",
    "scores = evaluate_population(population)\n",
    "for i in range(10000):\n",
    "    children = create_new_children(population, scores)\n",
    "    socre_of_children = evaluate_population(children)\n",
    "    scores.extend(socre_of_children)\n",
    "    population.extend(children)\n",
    "\n",
    "    population = selection(population, scores)\n",
    "    \n"
   ]
  },
  {
   "cell_type": "code",
   "execution_count": 202,
   "metadata": {},
   "outputs": [
    {
     "data": {
      "text/plain": [
       "[640.1813712374573,\n",
       " 640.1813712374573,\n",
       " 640.1813712374573,\n",
       " 640.1813712374573,\n",
       " 640.1813712374573,\n",
       " 640.1813712374573,\n",
       " 640.1813712374573,\n",
       " 640.1813712374573,\n",
       " 640.1813712374573,\n",
       " 640.1813712374573,\n",
       " 640.1813712374573,\n",
       " 640.1813712374573,\n",
       " 640.1813712374573,\n",
       " 640.1813712374573,\n",
       " 640.1813712374573,\n",
       " 640.1813712374573,\n",
       " 640.1813712374573,\n",
       " 640.1813712374573,\n",
       " 640.1813712374573,\n",
       " 640.1813712374573]"
      ]
     },
     "execution_count": 202,
     "metadata": {},
     "output_type": "execute_result"
    }
   ],
   "source": [
    "scores"
   ]
  }
 ],
 "metadata": {
  "kernelspec": {
   "display_name": "Python 3",
   "language": "python",
   "name": "python3"
  },
  "language_info": {
   "codemirror_mode": {
    "name": "ipython",
    "version": 3
   },
   "file_extension": ".py",
   "mimetype": "text/x-python",
   "name": "python",
   "nbconvert_exporter": "python",
   "pygments_lexer": "ipython3",
   "version": "3.12.0"
  }
 },
 "nbformat": 4,
 "nbformat_minor": 2
}
