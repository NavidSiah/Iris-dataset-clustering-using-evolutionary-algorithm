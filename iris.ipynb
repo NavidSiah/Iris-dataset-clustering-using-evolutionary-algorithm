{
 "cells": [
  {
   "cell_type": "code",
   "execution_count": 25,
   "metadata": {},
   "outputs": [],
   "source": [
    "import pandas as pd\n",
    "from sklearn.datasets import load_iris\n",
    "\n",
    "iris = load_iris()\n",
    "iris_df = pd.DataFrame(data=iris.data, columns=iris.feature_names)\n"
   ]
  },
  {
   "cell_type": "code",
   "execution_count": 140,
   "metadata": {},
   "outputs": [],
   "source": [
    "import random\n",
    "\n",
    "number_of_clusters = 3\n",
    "nummber_of_population = 1000\n",
    "\n",
    "def init_population():\n",
    "    population = []\n",
    "    for _ in range(nummber_of_population):\n",
    "        population.append([random.randint(0, number_of_clusters - 1) for _ in range(150)])\n",
    "    return population\n",
    "\n",
    "def evaluate_population(population):\n",
    "    population_scores = [None] * len(population)\n",
    "    for k in range(len(population)):\n",
    "        individual = population[k]\n",
    "        mean_of_clusters= [0 for _ in range(number_of_clusters)]\n",
    "        for i in range(number_of_clusters):\n",
    "            indices = [j for j, x in enumerate(individual) if x == i]\n",
    "            sample_of_cluster = iris_df.iloc[indices]\n",
    "            mean_of_clusters[i] = sample_of_cluster.mean(axis=0)\n",
    "\n",
    "        sum1 = 0\n",
    "        for i in range(len(individual)):\n",
    "            cluster = individual[i]\n",
    "            for f in range(4):\n",
    "                sum1 += (iris_df.iloc[i][f] - mean_of_clusters[cluster][f])**2\n",
    "\n",
    "        population_scores[k] = sum1\n",
    "    return population_scores\n",
    "\n",
    "def create_new_children(population, population_scores):\n",
    "\n",
    "    indices = range(len(population))\n",
    "    min_score = min(population_scores)\n",
    "    probabilities = [1 / ((score - min_score) + 1) for score in population_scores]\n",
    "\n",
    "    i = 0\n",
    "    children = [None] * 300\n",
    "    while i < 300:\n",
    "        parent1_index = random.choices(indices, probabilities)[0]\n",
    "        parent2_index = random.choices(indices, probabilities)[0]\n",
    "\n",
    "        rand_num1 = random.randint(0, 148)\n",
    "        rand_num2 = random.randint(rand_num1 + 1, 149)\n",
    "        children[i] = population[parent1_index][0:rand_num1]+population[parent2_index][rand_num1:rand_num2] + population[parent1_index][rand_num2:150]\n",
    "        children[i+1] = population[parent2_index][0:rand_num1]+population[parent1_index][rand_num1:rand_num2] + population[parent2_index][rand_num2:150]\n",
    "        i += 2\n",
    "\n",
    "    return children\n",
    "\n",
    "    \n",
    "def selection(population, scores):\n",
    "    for _ in range(300):\n",
    "        index = scores.index(max(scores))\n",
    "        population.pop(index)\n",
    "        scores.pop(index)\n",
    "\n",
    "    return population\n",
    "\n",
    "def mutation(population):\n",
    "    for _ in range(200):\n",
    "        rand1 = random.randint(0, nummber_of_population - 1)\n",
    "        rand2 = random.randint(0, 148)\n",
    "        rand3 = random.randint(rand2 + 1, 149)\n",
    "        population[rand1][rand2:rand3] = [random.randint(0, number_of_clusters -1 ) for _ in range(rand3 - rand2 + 1)]\n",
    "    return population"
   ]
  },
  {
   "cell_type": "code",
   "execution_count": 141,
   "metadata": {},
   "outputs": [
    {
     "name": "stderr",
     "output_type": "stream",
     "text": [
      "C:\\Users\\Navid_jkcdo35\\AppData\\Local\\Temp\\ipykernel_17224\\828882866.py:26: FutureWarning: Series.__getitem__ treating keys as positions is deprecated. In a future version, integer keys will always be treated as labels (consistent with DataFrame behavior). To access a value by position, use `ser.iloc[pos]`\n",
      "  sum1 += (iris_df.iloc[i][f] - mean_of_clusters[cluster][f])**2\n"
     ]
    }
   ],
   "source": [
    "population = init_population()\n",
    "scores = evaluate_population(population)\n",
    "for i in range(5):\n",
    "    children = create_new_children(population, scores)\n",
    "    socre_of_children = evaluate_population(children)\n",
    "    scores.extend(socre_of_children)\n",
    "    population.extend(children)\n",
    "\n",
    "    population = selection(population, scores)\n",
    "    population = mutation(population)"
   ]
  }
 ],
 "metadata": {
  "kernelspec": {
   "display_name": "Python 3",
   "language": "python",
   "name": "python3"
  },
  "language_info": {
   "codemirror_mode": {
    "name": "ipython",
    "version": 3
   },
   "file_extension": ".py",
   "mimetype": "text/x-python",
   "name": "python",
   "nbconvert_exporter": "python",
   "pygments_lexer": "ipython3",
   "version": "3.12.0"
  }
 },
 "nbformat": 4,
 "nbformat_minor": 2
}
